{
 "cells": [
  {
   "cell_type": "markdown",
   "metadata": {},
   "source": [
    "# Retinotopic mapping - forward and reverse"
   ]
  },
  {
   "cell_type": "markdown",
   "metadata": {},
   "source": [
    "The Oculomotor model has a retinotopic mapping between locations in the eye's frame of reference given by rotations about the $x$ and $y$ Cartesian axes ($\\theta_x$ and $\\theta_y$) and locations on the cortical surface which specify a radial and azimuthal angle, r and $\\phi$. In the model, the mapping is applied in worldDataMaker.cpp, which creates all the retinal neuron locations in terms of r and $\\phi$, then converts these into $\\theta_x$ and $\\theta_y$ in EyeFrame::generateNeuronThetaCoords, which contains an implementation of the mapping from (r,$\\phi$) to ($\\theta_x$,$\\theta_y$). The reverse mapping is achieved in worldDataMaker.cpp because the neurons are stored in a container which retains the (r,$\\phi$) information. If a given neuron at ($\\theta_x$,$\\theta_y$) is activated, then its position in the container encodes (r,$\\phi$). For this reason there is no explicit sign of the reverse mapping in the EyeFrame code.\n",
    "\n",
    "In this model, $\\theta_x$ is a rotation about the Cartesian $x$ axis. The result of a positive rotation about the $x$ axis in a right-handed Cartesian coordinate system results in an \"upward movement\". Note that a positive rotation about the $y$ axis results in a \"leftward movement\". See worldtest_singlelum to see the result of the mapping (run worldtest_singlelum, then examine the results with worldtest_singlelum.m).\n",
    "\n",
    "Here, I'm going to write out the retinotopic mappings, both forward and reverse. Starting from the mapping given in Alex and Kevin's paper \"An integrative model...\":\n",
    "\n",
    "The magnification factor, $M_f$ is given by:\n",
    "$$ M_f = {W_{nfs} \\over E_2 ln ({W_{fov} \\over 2 E_2} + 1)}$$\n",
    "where $W_{nfs}$ is the width of the retinotopic neural fields (50 for the oculomotor model), $W_{fov}$ is the eye's field of view, which is set to 61 degrees (a reduction from the biophysically accurate 150 degrees due to the small number of neurons in the retinotopic neural field). $E_2$ is the eccentricity (in degrees) at which the retinal neural density has halved compared with the foveal region.\n",
    "\n",
    "With $M_f$ calculated, the mapping from the retinotopic radial and angular components, $r$ and $\\phi$ to $\\theta_x$ and $\\theta_y$ is:\n",
    "\n",
    "$$ \\theta_x = E_2 (e^{{r \\over M_f E_2}} - 1).\\cos({2 \\pi \\phi \\over W_{nfs}}) \\tag{1}$$\n",
    "\n",
    "$$ \\theta_y = E_2 (e^{{r \\over M_f E_2}} - 1).\\sin({2 \\pi \\phi \\over W_{nfs}}) \\tag{2}$$\n",
    "\n",
    "The transformation given by (1) and (2) is the one implemented by the retmap function below.\n",
    "\n",
    "Our next task is to find the reverse mapping; that is to find $\\phi$ and $r$ in terms of  $\\theta_x$ and $\\theta_y$. First, let $m = {1 \\over M_f E_2}$ and $k = {2 \\pi \\over W_{nfs}}$. Then:\n",
    "\n",
    "$$ \\theta_x = E_2 (e^{m r} - 1).\\cos(k \\phi)$$\n",
    "$$ \\theta_y = E_2 (e^{m r} - 1).\\sin(k \\phi)$$\n",
    "\n",
    "$$ \\implies E_2 (e^{m r} - 1) = {\\theta_x \\over \\cos(k \\phi)} = {\\theta_y \\over \\sin(k \\phi)} $$\n",
    "$$ \\implies { \\sin(k \\phi) \\over \\cos(k \\phi) } = {\\theta_y\\over\\theta_x}$$\n",
    "$$ \\implies \\tan(k \\phi) = {\\theta_y\\over\\theta_x}$$\n",
    "$$ \\implies \\phi = {1\\over k} \\arctan ({\\theta_y\\over\\theta_x})$$\n",
    "but *be careful about quadrants* - there are infinite solutions to $\\arctan(x)$ for any $x$. Expanding k we get:\n",
    "$$ \\phi = {W_{nfs} \\over 2 \\pi}\\arctan ({\\theta_y\\over\\theta_x}) \\tag{3}$$\n",
    "\n",
    "Now back to \n",
    "\n",
    "$$ \\theta_x = E_2 (e^{m r} - 1).\\cos(k \\phi)$$\n",
    "$$ \\theta_y = E_2 (e^{m r} - 1).\\sin(k \\phi)$$\n",
    "\n",
    "to find $r$ in terms of $\\theta_x$ and $\\theta_y$. Square these:\n",
    "\n",
    "$$ {\\theta_x}^2 = {E_2}^2 (e^{m r} - 1)^2.\\cos^2(k \\phi)$$\n",
    "$$ {\\theta_y}^2 = {E_2}^2 (e^{m r} - 1)^2.\\sin^2(k \\phi)$$\n",
    "$$ \\implies {\\theta_x}^2 + {\\theta_y}^2 = {E_2}^2 (e^{m r} - 1)^2.(\\cos^2(k \\phi) + \\sin^2(k \\phi))$$\n",
    "$$ \\implies {\\theta_x}^2 + {\\theta_y}^2 = {E_2}^2 (e^{m r} - 1)^2$$\n",
    "(by the Pythagorean trigonometric identity $\\sin^2\\theta + \\cos^2\\theta = 1$) and so:\n",
    "$$ \\sqrt{{\\theta_x}^2 + {\\theta_y}^2} =E_2 (e^{m r} - 1)$$\n",
    "$$ \\implies e^{m r} = {1\\over E_2}\\sqrt{{\\theta_x}^2 + {\\theta_y}^2}+1$$\n",
    "$$ \\implies r = {1\\over m} \\ln ({1\\over E_2}\\sqrt{{\\theta_x}^2 + {\\theta_y}^2}+1)$$\n",
    "Expanding m we get:\n",
    "$$ r = M_f E_2 \\ln ({1\\over E_2}\\sqrt{{\\theta_x}^2 + {\\theta_y}^2}+1) \\tag{4}$$"
   ]
  },
  {
   "cell_type": "code",
   "execution_count": 2,
   "metadata": {
    "collapsed": false
   },
   "outputs": [],
   "source": [
    "def retmap (r, phi):\n",
    "    # Here's the mapping from retinotopic radial component (r) and\n",
    "    # angular component (phi) to the eyeframe map thetaX/thetaY\n",
    "    # (rotation _about_ x and y axes)\n",
    "\n",
    "    import numpy as np\n",
    "\n",
    "    E2 = float(2.5) # radial angle at which neural density has halved \n",
    "    nfs = float(50) # 50x50 grid.\n",
    "    fieldOfView = float(61) # 0 and +/- 30 degrees\n",
    "    # The Magnification factor\n",
    "    Mf = nfs/(E2*np.log(((fieldOfView/2)/E2+1)))\n",
    "\n",
    "    _r = float(r)\n",
    "    _phi = float(phi)\n",
    "    \n",
    "    thetax = E2*(-1+np.exp(_r/(Mf*E2)))*np.cos(_phi*2*np.pi/nfs)\n",
    "    thetay = E2*(-1+np.exp(_r/(Mf*E2)))*np.sin(_phi*2*np.pi/nfs)\n",
    "\n",
    "    print 'RotX:',thetax,'RotY:',thetay\n",
    "    \n",
    "    return thetax,thetay"
   ]
  },
  {
   "cell_type": "code",
   "execution_count": 12,
   "metadata": {
    "collapsed": false
   },
   "outputs": [
    {
     "name": "stdout",
     "output_type": "stream",
     "text": [
      "Physically UP:\n",
      "RotX: 10.0000025171 RotY: -2.4492942148e-15\n",
      "RIGHT:\n",
      "RotX: -1.8369706611e-15 RotY: -10.0000025171\n",
      "DOWN:\n",
      "RotX: -10.0000025171 RotY: 1.2246471074e-15\n",
      "LEFT:\n",
      "RotX: 6.123235537e-16 RotY: 10.0000025171\n",
      "XTRA:\n",
      "RotX: 3.75116662734e-16 RotY: 6.12612000448\n"
     ]
    }
   ],
   "source": [
    "# Test retmap()\n",
    "print (\"Physically UP:\")\n",
    "thx,thy = retmap (31.18804,50)\n",
    "print (\"RIGHT:\")\n",
    "thx,thy = retmap (31.18804,37.5)\n",
    "print (\"DOWN:\")\n",
    "thx,thy = retmap (31.18804,25)\n",
    "print (\"LEFT:\")\n",
    "thx,thy = retmap (31.18804,12.5)\n",
    "\n",
    "print (\"XTRA:\")\n",
    "thx,thy = retmap (24,12.5)\n"
   ]
  },
  {
   "cell_type": "code",
   "execution_count": 243,
   "metadata": {
    "collapsed": false
   },
   "outputs": [],
   "source": [
    "def mapret (thetax, thetay):\n",
    "    # mapping from eyeframe map to retinotopic coordinates.\n",
    "\n",
    "    import numpy as np\n",
    "    \n",
    "    E2 = float(2.5) # radial angle at which neural density has halved \n",
    "    nfs = float(50.0) # 50x50 grid.\n",
    "    fieldOfView = float(61.0) # 0 and +/- 30 degrees\n",
    "    # The Magnification factor\n",
    "    Mf = nfs/(E2*np.log(((fieldOfView/2)/E2)+1))\n",
    "\n",
    "    _thetay = float(thetay)\n",
    "    _thetax = float(thetax)\n",
    "    print 'thetax =',thetax,'thetay =',thetay\n",
    "    \n",
    "    # From arctan alone, you can only get a value for phi between -pi/2 to pi/2 (or \n",
    "    # from 0 to pi). To cover the full range of phi, you have to make use of the\n",
    "    # quadrant information and add +/-pi. arctan2 does this for you, but it returns\n",
    "    # a value between -pi and pi, whereas I want a value between 0 and 2pi, hence the\n",
    "    # test for phi<0.\n",
    "    phi = (nfs/(2*np.pi))*np.arctan2 (_thetay,_thetax)\n",
    "    if phi < 0:\n",
    "        phi = phi + nfs;\n",
    "\n",
    "    # Calculate r\n",
    "    r = Mf*E2*np.log( (1/E2) * np.sqrt(_thetax*_thetax + _thetay*_thetay) + 1 )\n",
    "    \n",
    "    print 'r =', r, 'phi =', phi\n",
    "    \n",
    "    return r, phi"
   ]
  },
  {
   "cell_type": "code",
   "execution_count": 246,
   "metadata": {
    "collapsed": false
   },
   "outputs": [
    {
     "name": "stdout",
     "output_type": "stream",
     "text": [
      "thetax = 0.0 thetay = -10\n",
      "r = 31.1880360979 phi = 37.5\n"
     ]
    }
   ],
   "source": [
    "# Test mapret. e.g.: RotX = 0, RotY = -10 (a rightward position)\n",
    "r, phi = mapret (0.0,-10)"
   ]
  },
  {
   "cell_type": "code",
   "execution_count": 249,
   "metadata": {
    "collapsed": false
   },
   "outputs": [
    {
     "name": "stdout",
     "output_type": "stream",
     "text": [
      "thetax = 5 thetay = 5\n",
      "r = 26.0143649762 phi = 6.25\n",
      "RotX: 5.0 RotY: 5.0\n",
      "---\n",
      "thetax = -5 thetay = -5\n",
      "r = 26.0143649762 phi = 31.25\n",
      "RotX: -5.0 RotY: -5.0\n",
      "===\n",
      "thetax = -5 thetay = 5\n",
      "r = 26.0143649762 phi = 18.75\n",
      "RotX: -5.0 RotY: 5.0\n",
      "---\n",
      "thetax = 5 thetay = -5\n",
      "r = 26.0143649762 phi = 43.75\n",
      "RotX: 5.0 RotY: -5.0\n",
      "===\n",
      "thetax = 5 thetay = 0\n",
      "r = 21.2891466343 phi = 0.0\n",
      "RotX: 5.0 RotY: 0.0\n",
      "---\n",
      "thetax = -5 thetay = 0\n",
      "r = 21.2891466343 phi = 25.0\n",
      "RotX: -5.0 RotY: 6.12323399574e-16\n",
      "===\n",
      "thetax = 0 thetay = -5\n",
      "r = 21.2891466343 phi = 37.5\n",
      "RotX: -9.18485099361e-16 RotY: -5.0\n",
      "---\n",
      "thetax = 0 thetay = 5\n",
      "r = 21.2891466343 phi = 12.5\n",
      "RotX: 3.06161699787e-16 RotY: 5.0\n",
      "===\n"
     ]
    }
   ],
   "source": [
    "# Verify forward/reverse mappings:\n",
    "r,phi = mapret (5,5)\n",
    "thx,thy = retmap (r,phi)\n",
    "print '---'\n",
    "r,phi = mapret (-5,-5)\n",
    "thx,thy = retmap (r,phi)\n",
    "print '==='\n",
    "r,phi = mapret (-5,5)\n",
    "thx,thy = retmap (r,phi)\n",
    "print '---'\n",
    "r,phi = mapret (5,-5)\n",
    "thx,thy = retmap (r,phi)\n",
    "print '==='\n",
    "r,phi = mapret (5,0) # UP\n",
    "thx,thy = retmap (r,phi)\n",
    "print '---'\n",
    "r,phi = mapret (-5,0) # DOWN\n",
    "thx,thy = retmap (r,phi)\n",
    "print '==='\n",
    "r,phi = mapret (0,-5) # LEFT\n",
    "thx,thy = retmap (r,phi)\n",
    "print '---'\n",
    "r,phi = mapret (0,5) # RIGHT\n",
    "thx,thy = retmap (r,phi)\n",
    "print '==='\n",
    "\n"
   ]
  },
  {
   "cell_type": "code",
   "execution_count": 229,
   "metadata": {
    "collapsed": false
   },
   "outputs": [
    {
     "name": "stdout",
     "output_type": "stream",
     "text": [
      "r = 6.52023180305 phi = 37.5795774715\n",
      "r = 6.52023180305 phi = 38.8595883056\n",
      "r = 6.52023180305 phi = 40.1395991397\n",
      "r = 6.52023180305 phi = 41.4196099737\n",
      "r = 6.52023180305 phi = 42.6996208078\n",
      "r = 6.52023180305 phi = 43.9796316419\n",
      "r = 6.52023180305 phi = 45.2596424759\n",
      "r = 6.52023180305 phi = 46.53965331\n",
      "r = 6.52023180305 phi = 47.819664144\n",
      "r = 6.52023180305 phi = 49.0996749781\n",
      "r = 6.52023180305 phi = 0.379685812175\n",
      "r = 6.52023180305 phi = 1.65969664624\n",
      "r = 6.52023180305 phi = 2.9397074803\n",
      "r = 6.52023180305 phi = 4.21971831436\n",
      "r = 6.52023180305 phi = 5.49972914843\n",
      "r = 6.52023180305 phi = 6.77973998249\n",
      "r = 6.52023180305 phi = 8.05975081655\n",
      "r = 6.52023180305 phi = 9.33976165062\n",
      "r = 6.52023180305 phi = 10.6197724847\n",
      "r = 6.52023180305 phi = 11.8997833187\n",
      "r = 6.52023180305 phi = 13.1797941528\n",
      "r = 6.52023180305 phi = 14.4598049869\n",
      "r = 6.52023180305 phi = 15.7398158209\n",
      "r = 6.52023180305 phi = 17.019826655\n",
      "r = 6.52023180305 phi = 18.2998374891\n",
      "r = 6.52023180305 phi = 19.5798483231\n",
      "r = 6.52023180305 phi = 20.8598591572\n",
      "r = 6.52023180305 phi = 22.1398699912\n",
      "r = 6.52023180305 phi = 23.4198808253\n",
      "r = 6.52023180305 phi = 24.6998916594\n",
      "r = 6.52023180305 phi = 25.9799024934\n",
      "r = 6.52023180305 phi = 27.2599133275\n",
      "r = 6.52023180305 phi = 28.5399241616\n",
      "r = 6.52023180305 phi = 29.8199349956\n",
      "r = 6.52023180305 phi = 31.0999458297\n",
      "r = 6.52023180305 phi = 32.3799566637\n",
      "r = 6.52023180305 phi = 33.6599674978\n",
      "r = 6.52023180305 phi = 34.9399783319\n",
      "r = 6.52023180305 phi = 36.2199891659\n",
      "r = 6.52023180305 phi = 37.5\n"
     ]
    },
    {
     "data": {
      "image/png": "[encoded data removed]",
      "text/plain": [
       "<matplotlib.figure.Figure at 0x7fce2c746810>"
      ]
     },
     "metadata": {},
     "output_type": "display_data"
    }
   ],
   "source": [
    "import numpy as np\n",
    "phis = []\n",
    "x = np.linspace(0.01,2*np.pi,40,endpoint=True)\n",
    "for i in range(0, 40):\n",
    "    #if i%10==0:\n",
    "        #print 'x:',np.sin(x[i]),' y:', -1*np.cos(x[i])\n",
    "    phi = mapret ( np.sin(x[i]) , -1*np.cos(x[i]) )\n",
    "    phis.append(phi);\n",
    "\n",
    "import matplotlib.pyplot as plt\n",
    "plt.plot (x,phis)\n",
    "plt.show()"
   ]
  },
  {
   "cell_type": "code",
   "execution_count": 248,
   "metadata": {
    "collapsed": false
   },
   "outputs": [
    {
     "data": {
      "text/plain": [
       "(-1.5707963267948966, 1.5707963267948966)"
      ]
     },
     "execution_count": 248,
     "metadata": {},
     "output_type": "execute_result"
    },
    {
     "data": {
      "image/png": "[encoded data removed]",
      "text/plain": [
       "<matplotlib.figure.Figure at 0x7fce2c8bc150>"
      ]
     },
     "metadata": {},
     "output_type": "display_data"
    }
   ],
   "source": [
    "# Scratchpad; Looking at arctan.\n",
    "\n",
    "import numpy as np\n",
    "%matplotlib inline\n",
    "import matplotlib.pyplot as plt\n",
    "\n",
    "x = np.linspace(-2*np.pi, 2*np.pi, 5000)\n",
    "\n",
    "sinx = np.sin(x)\n",
    "cosx = np.cos(x)\n",
    "tanx = np.tan(x)\n",
    "atanx = np.arctan(x)\n",
    "\n",
    "plt.plot(x, sinx, 'k')\n",
    "plt.plot(x, cosx, 'b')\n",
    "plt.plot(x, tanx, 'g')\n",
    "plt.plot(x, atanx, 'r')\n",
    "plt.ylim((-np.pi/2,np.pi/2))"
   ]
  },
  {
   "cell_type": "code",
   "execution_count": null,
   "metadata": {
    "collapsed": true
   },
   "outputs": [],
   "source": []
  }
 ],
 "metadata": {
  "kernelspec": {
   "display_name": "Python 2",
   "language": "python",
   "name": "python2"
  },
  "language_info": {
   "codemirror_mode": {
    "name": "ipython",
    "version": 2
   },
   "file_extension": ".py",
   "mimetype": "text/x-python",
   "name": "python",
   "nbconvert_exporter": "python",
   "pygments_lexer": "ipython2",
   "version": "2.7.6"
  }
 },
 "nbformat": 4,
 "nbformat_minor": 0
}
