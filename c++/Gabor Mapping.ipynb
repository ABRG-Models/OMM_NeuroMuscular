{
 "cells": [
  {
   "cell_type": "markdown",
   "metadata": {
    "deletable": true,
    "editable": true
   },
   "source": [
    "# Retinotopic mapping - forward and reverse"
   ]
  },
  {
   "cell_type": "markdown",
   "metadata": {
    "deletable": true,
    "editable": true
   },
   "source": [
    "Gabor mapping"
   ]
  },
  {
   "cell_type": "code",
   "execution_count": null,
   "metadata": {
    "collapsed": true,
    "deletable": true,
    "editable": true
   },
   "outputs": [],
   "source": [
    "#PARNAME=sigma_g  #LOC=1,1\n",
    "#PARNAME=gain_g   #LOC=1,2\n",
    "#PARNAME=lambda_s #LOC=2,1\n",
    "#PARNAME=gain_s   #LOC=2,2\n",
    "#PARNAME=dir_s    #LOC=2,3\n",
    "#HASWEIGHT\n",
    "\n",
    "# This implements a Gabor connection; a 2-D Gaussian multiplied by a 1-D sine. Arguments:\n",
    "# sigma_g - sigma of the gaussian\n",
    "# gain_g - a gain for the gaussian\n",
    "# lambda_s - wavelength of sine\n",
    "# gain_s - gain of sine\n",
    "# dir_s - direction of (1-D) sine in degrees\n",
    "def connectionFunc(srclocs,dstlocs,sigma_g,gain_g,lambda_s,gain_s,dir_s):\n",
    "\n",
    "  import math\n",
    "  twopi = 6.283185307;\n",
    "  i = 0\n",
    "  out = []\n",
    "  for srcloc in srclocs:\n",
    "    j = 0   \n",
    "    for dstloc in dstlocs:\n",
    "\n",
    "      dist = math.sqrt(math.pow((srcloc[0] - dstloc[0]),2) + math.pow((srcloc[1] - dstloc[1]),2) + math.pow((srcloc[2] - dstloc[2]),2))\n",
    "\n",
    "      # Direction from source to dest\n",
    "      dir_d = math.atan2(dloc2-sloc2, dloc1-sloc1);\n",
    "\n",
    "      # Find the projection of the source->dest direction onto the sine wave direction. Call this distance rprime.\n",
    "      rprime = dist*math.cos(dir_d + twopi - ((dir_s*twopi)/360));\n",
    "\n",
    "      # Use rprime to figure out what the sine weight is.\n",
    "      sine_weight = gain_s*rprime*math.sin(rprime*twopi/lambda_s);\n",
    "\n",
    "      gauss_weight = gain_g*math.exp(-0.5*math.pow(dist/sigma_g,2))\n",
    "\n",
    "      combined_weight = sine_weight * gauss_weight;\n",
    "\n",
    "      if combined_weight > weight_cutoff:\n",
    "        #sys.stdout.write('gauss>0.0001: i={0} gauss={1}'.format( i, gauss))\n",
    "        conn = (i,j,0,combined_weight)\n",
    "        out.append(conn)\n",
    "\n",
    "      j = j + 1\n",
    "    i = i + 1\n",
    "  #sys.stdout.write('out length: %d' % len(out))\n",
    "  return out\n"
   ]
  },
  {
   "cell_type": "code",
   "execution_count": null,
   "metadata": {
    "collapsed": true
   },
   "outputs": [],
   "source": [
    "srclocs = [ 1 2 3 4 5]"
   ]
  }
 ],
 "metadata": {
  "kernelspec": {
   "display_name": "Python 2",
   "language": "python",
   "name": "python2"
  },
  "language_info": {
   "codemirror_mode": {
    "name": "ipython",
    "version": 2
   },
   "file_extension": ".py",
   "mimetype": "text/x-python",
   "name": "python",
   "nbconvert_exporter": "python",
   "pygments_lexer": "ipython2",
   "version": "2.7.12"
  }
 },
 "nbformat": 4,
 "nbformat_minor": 0
}
